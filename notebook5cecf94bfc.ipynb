{
  "metadata": {
    "kernelspec": {
      "language": "python",
      "display_name": "Python 3",
      "name": "python3"
    },
    "language_info": {
      "name": "python",
      "version": "3.11.11",
      "mimetype": "text/x-python",
      "codemirror_mode": {
        "name": "ipython",
        "version": 3
      },
      "pygments_lexer": "ipython3",
      "nbconvert_exporter": "python",
      "file_extension": ".py"
    },
    "kaggle": {
      "accelerator": "none",
      "dataSources": [
        {
          "sourceId": 11631688,
          "sourceType": "datasetVersion",
          "datasetId": 6775341
        }
      ],
      "dockerImageVersionId": 31012,
      "isInternetEnabled": false,
      "language": "python",
      "sourceType": "notebook",
      "isGpuEnabled": false
    },
    "colab": {
      "name": "notebook5cecf94bfc",
      "provenance": [],
      "include_colab_link": true
    }
  },
  "nbformat_minor": 0,
  "nbformat": 4,
  "cells": [
    {
      "cell_type": "markdown",
      "metadata": {
        "id": "view-in-github",
        "colab_type": "text"
      },
      "source": [
        "<a href=\"https://colab.research.google.com/github/mo2026bialy/signal-project/blob/main/notebook5cecf94bfc.ipynb\" target=\"_parent\"><img src=\"https://colab.research.google.com/assets/colab-badge.svg\" alt=\"Open In Colab\"/></a>"
      ]
    },
    {
      "source": [
        "# IMPORTANT: RUN THIS CELL IN ORDER TO IMPORT YOUR KAGGLE DATA SOURCES,\n",
        "# THEN FEEL FREE TO DELETE THIS CELL.\n",
        "# NOTE: THIS NOTEBOOK ENVIRONMENT DIFFERS FROM KAGGLE'S PYTHON\n",
        "# ENVIRONMENT SO THERE MAY BE MISSING LIBRARIES USED BY YOUR\n",
        "# NOTEBOOK.\n",
        "import kagglehub\n",
        "mohamedasem318_wesad_full_dataset_path = kagglehub.dataset_download('mohamedasem318/wesad-full-dataset')\n",
        "\n",
        "print('Data source import complete.')\n"
      ],
      "metadata": {
        "id": "OJ8ziLnfbTIX"
      },
      "cell_type": "code",
      "outputs": [],
      "execution_count": null
    },
    {
      "cell_type": "code",
      "source": [
        "import os\n",
        "import pickle\n",
        "import numpy as np\n",
        "import pandas as pd\n",
        "\n",
        "base_path = \"/kaggle/input/wesad-full-dataset/WESAD\"\n",
        "subjects = ['S2', 'S3', 'S4', 'S5', 'S6', 'S7', 'S8', 'S9', 'S10',\n",
        "            'S11', 'S13', 'S14', 'S15', 'S16', 'S17']\n",
        "\n",
        "combined_data = []\n",
        "combined_labels = []\n",
        "\n",
        "for subject in subjects:\n",
        "    file_path = os.path.join(base_path, subject, f\"{subject}.pkl\")\n",
        "\n",
        "    with open(file_path, 'rb') as f:\n",
        "        data = pickle.load(f, encoding='latin1')\n",
        "\n",
        "        chest = data['signal']['chest']\n",
        "        label = data['label']\n",
        "\n",
        "        # أسماء الإشارات الصحيحة\n",
        "        try:\n",
        "            acc = chest['ACC']\n",
        "            ecg = chest['ECG']\n",
        "            eda = chest['EDA']\n",
        "            emg = chest['EMG']\n",
        "            resp = chest['Resp']\n",
        "            temp = chest['Temp']\n",
        "\n",
        "            # ندمج الإشارات في مصفوفة واحدة\n",
        "            merged = np.hstack((acc, ecg, eda, emg, resp, temp))\n",
        "\n",
        "            if merged.shape[0] != label.shape[0]:\n",
        "                print(f\"⚠ {subject} فيه mismatch بين الداتا والليبلز.\")\n",
        "                continue\n",
        "\n",
        "            combined_data.append(merged)\n",
        "            combined_labels.append(label)\n",
        "            print(f\"✅ {subject} تم معالجته بنجاح.\")\n",
        "\n",
        "        except Exception as e:\n",
        "            print(f\"❌ {subject} حصلت فيه مشكلة:\", e)\n",
        "\n",
        "# دمج كل المشاركين\n",
        "if len(combined_data) > 0:\n",
        "    X = np.concatenate(combined_data, axis=0)\n",
        "    y = np.concatenate(combined_labels, axis=0)\n",
        "    print(\"✅ تم دمج كل إشارات chest بنجاح!\")\n",
        "    print(\"X shape:\", X.shape)\n",
        "    print(\"y shape:\", y.shape)\n",
        "else:\n",
        "    print(\"❌ مفيش ولا عينة تم قبولها.\")"
      ],
      "metadata": {
        "trusted": true,
        "id": "PCJziO3mbTIc"
      },
      "outputs": [],
      "execution_count": null
    },
    {
      "cell_type": "code",
      "source": [
        "# تعديل أسماء الأعمدة لتتناسب مع عدد الأعمدة في X\n",
        "column_names = ['ACC_x', 'ACC_y', 'ACC_z', 'ECG', 'EDA', 'EMG', 'Resp', 'Temp']\n",
        "\n",
        "# تحويل X و y إلى DataFrame مع إضافة أسماء الأعمدة\n",
        "df = pd.DataFrame(X, columns=column_names)\n",
        "\n",
        "# إضافة العمود الخاص بالتسمية\n",
        "df['label'] = y\n",
        "\n",
        "# تحويل التصنيفات كما طلبت\n",
        "df['label'] = df['label'].apply(lambda x: 1 if x == 2 else 0 if x in [0, 1, 3, 4] else x)\n",
        "\n",
        "# حذف الصفوف التي تحتوي على التصنيفات 5, 6, 7\n",
        "df = df[~df['label'].isin([5, 6, 7])]\n",
        "\n",
        "# فصل المدخلات عن التصنيفات بعد الفلترة\n",
        "X_filtered = df.drop('label', axis=1).values\n",
        "y_filtered = df['label'].values\n",
        "\n",
        "# التحقق من الشكل الجديد\n",
        "print(f\"✅ تم فلترة البيانات بنجاح!\")\n",
        "print(f\"X_filtered shape: {X_filtered.shape}\")\n",
        "print(f\"y_filtered shape: {y_filtered.shape}\")"
      ],
      "metadata": {
        "trusted": true,
        "execution": {
          "iopub.status.busy": "2025-05-08T19:01:07.833426Z",
          "iopub.execute_input": "2025-05-08T19:01:07.833713Z",
          "iopub.status.idle": "2025-05-08T19:01:41.383689Z",
          "shell.execute_reply.started": "2025-05-08T19:01:07.833688Z",
          "shell.execute_reply": "2025-05-08T19:01:41.382722Z"
        },
        "jupyter": {
          "source_hidden": true
        },
        "id": "J2o5pOIKbTIe",
        "outputId": "1460a3a2-9240-49cc-966f-945afa9fcfae"
      },
      "outputs": [
        {
          "name": "stdout",
          "text": "✅ تم فلترة البيانات بنجاح!\nX_filtered shape: (59125500, 8)\ny_filtered shape: (59125500,)\n",
          "output_type": "stream"
        }
      ],
      "execution_count": null
    },
    {
      "cell_type": "code",
      "source": [
        "df.shape"
      ],
      "metadata": {
        "trusted": true,
        "execution": {
          "iopub.status.busy": "2025-05-08T19:01:41.384892Z",
          "iopub.execute_input": "2025-05-08T19:01:41.385181Z",
          "iopub.status.idle": "2025-05-08T19:01:41.393236Z",
          "shell.execute_reply.started": "2025-05-08T19:01:41.385157Z",
          "shell.execute_reply": "2025-05-08T19:01:41.392116Z"
        },
        "id": "d1hrcZfXbTIg",
        "outputId": "2f2006c2-421f-4c5b-ee52-d14c3432c9f7"
      },
      "outputs": [
        {
          "execution_count": 4,
          "output_type": "execute_result",
          "data": {
            "text/plain": "(59125500, 9)"
          },
          "metadata": {}
        }
      ],
      "execution_count": null
    },
    {
      "cell_type": "code",
      "source": [
        "print(df.head())"
      ],
      "metadata": {
        "trusted": true,
        "execution": {
          "iopub.status.busy": "2025-05-08T19:01:41.395836Z",
          "iopub.execute_input": "2025-05-08T19:01:41.397361Z",
          "iopub.status.idle": "2025-05-08T19:01:41.434828Z",
          "shell.execute_reply.started": "2025-05-08T19:01:41.397327Z",
          "shell.execute_reply": "2025-05-08T19:01:41.433337Z"
        },
        "id": "pxGrU4sVbTIg",
        "outputId": "9f81a2a5-8b3f-44be-fa43-82c84ed0f868"
      },
      "outputs": [
        {
          "name": "stdout",
          "text": "    ACC_x   ACC_y   ACC_z       ECG       EDA       EMG      Resp       Temp  \\\n0  0.9554 -0.2220 -0.5580  0.021423  5.250549 -0.004440 -1.148987  30.120758   \n1  0.9258 -0.2216 -0.5538  0.020325  5.267334  0.004349 -1.124573  30.129517   \n2  0.9082 -0.2196 -0.5392  0.016525  5.243301  0.005173 -1.152039  30.138214   \n3  0.8974 -0.2102 -0.5122  0.016708  5.249405  0.007187 -1.158142  30.129517   \n4  0.8882 -0.2036 -0.4824  0.011673  5.286407 -0.015152 -1.161194  30.130951   \n\n   label  \n0      0  \n1      0  \n2      0  \n3      0  \n4      0  \n",
          "output_type": "stream"
        }
      ],
      "execution_count": null
    },
    {
      "cell_type": "code",
      "source": [
        "# حساب عدد التصنيفات الفريدة\n",
        "unique_labels = df['label'].unique()\n",
        "\n",
        "# حساب عدد التصنيفات الفريدة\n",
        "num_unique_labels = len(unique_labels)\n",
        "\n",
        "print(f\"عدد التصنيفات الفريدة: {num_unique_labels}\")\n",
        "print(f\"التصنيفات الفريدة: {unique_labels}\")"
      ],
      "metadata": {
        "trusted": true,
        "execution": {
          "iopub.status.busy": "2025-05-08T19:01:41.435759Z",
          "iopub.execute_input": "2025-05-08T19:01:41.436029Z",
          "iopub.status.idle": "2025-05-08T19:01:41.835288Z",
          "shell.execute_reply.started": "2025-05-08T19:01:41.436005Z",
          "shell.execute_reply": "2025-05-08T19:01:41.834237Z"
        },
        "id": "cHsrUVlLbTIh",
        "outputId": "9591418f-26e5-4e53-fd9c-556c8c61bcb5"
      },
      "outputs": [
        {
          "name": "stdout",
          "text": "عدد التصنيفات الفريدة: 2\nالتصنيفات الفريدة: [0 1]\n",
          "output_type": "stream"
        }
      ],
      "execution_count": null
    },
    {
      "cell_type": "code",
      "source": [
        "import numpy as np\n",
        "\n",
        "def create_windows(X, y, window_size=42000):\n",
        "    \"\"\"\n",
        "    تقسيم البيانات إلى نوافذ.\n",
        "\n",
        "    X: البيانات (الميزات) - الشكل المتوقع: (عدد العينات, عدد الميزات)\n",
        "    y: التصنيفات - الشكل المتوقع: (عدد العينات, 1) أو (عدد العينات,)\n",
        "    window_size: عدد العينات داخل كل نافذة (700Hz * 60s = 42000)\n",
        "    \"\"\"\n",
        "    windows_X = []\n",
        "    windows_y = []\n",
        "\n",
        "    for i in range(0, len(X) - window_size, window_size):\n",
        "        window_X = X[i:i+window_size]\n",
        "        window_y = y[i:i+window_size]\n",
        "\n",
        "        # استخدام التصنيف الأكثر تكرارًا في النافذة\n",
        "        label = np.bincount(window_y.flatten()).argmax()\n",
        "\n",
        "        windows_X.append(window_X)\n",
        "        windows_y.append(label)\n",
        "\n",
        "    windows_X = np.array(windows_X)\n",
        "    windows_y = np.array(windows_y)\n",
        "\n",
        "    return windows_X, windows_y\n",
        "\n",
        "# إعدادات التردد والمدة\n",
        "frequency = 700  # هرتز\n",
        "window_seconds = 60  # ثانية\n",
        "window_size = frequency * window_seconds  # 42000\n",
        "\n",
        "# تطبيق عملية التقسيم\n",
        "X_windows, y_windows = create_windows(X_filtered, y_filtered, window_size)\n",
        "\n",
        "# عرض النتائج بشكل مرتب\n",
        "print(f\"windows number: {X_windows.shape[0]}\")\n",
        "print(f\": {X_windows[0].shape}\")  # شكل أول نافذة للتحقق (مثلاً: (42000, 8))\n",
        "print(f\"label distribution: {np.unique(y_windows, return_counts=True)}\")"
      ],
      "metadata": {
        "trusted": true,
        "execution": {
          "iopub.status.busy": "2025-05-08T19:01:41.836307Z",
          "iopub.execute_input": "2025-05-08T19:01:41.836623Z",
          "iopub.status.idle": "2025-05-08T19:01:48.441865Z",
          "shell.execute_reply.started": "2025-05-08T19:01:41.836597Z",
          "shell.execute_reply": "2025-05-08T19:01:48.439293Z"
        },
        "id": "brQDHMWqbTIi",
        "outputId": "bf1268cb-e80f-4e70-aedb-addc94f45b5d"
      },
      "outputs": [
        {
          "name": "stdout",
          "text": "windows number: 1407\n: (42000, 8)\nlabel distribution: (array([0, 1]), array([1241,  166]))\n",
          "output_type": "stream"
        }
      ],
      "execution_count": null
    },
    {
      "cell_type": "code",
      "source": [
        "import numpy as np\n",
        "\n",
        "def extract_features(X_windows):\n",
        "    features = []\n",
        "    for window in X_windows:\n",
        "        window_features = []\n",
        "        for ch in range(window.shape[1]):\n",
        "            signal = window[:, ch]\n",
        "            mean = np.mean(signal)\n",
        "            std = np.std(signal)\n",
        "            min_val = np.min(signal)\n",
        "            max_val = np.max(signal)\n",
        "            median = np.median(signal)\n",
        "            energy = np.sum(signal ** 2)\n",
        "            zero_crossings = ((signal[:-1] * signal[1:]) < 0).sum()\n",
        "            window_features.extend([mean, std, min_val, max_val, median, energy, zero_crossings])\n",
        "        features.append(window_features)\n",
        "    return np.array(features)\n",
        "\n",
        "# مثال على استخدام الدالة:\n",
        "# (بافتراض أن X_windows موجود بالفعل)\n",
        "X_features = extract_features(X_windows)\n",
        "print(\"✅ تم استخراج الميزات.\")\n",
        "print(\"شكل مصفوفة الميزات:\", X_features.shape)"
      ],
      "metadata": {
        "trusted": true,
        "execution": {
          "iopub.status.busy": "2025-05-08T19:01:48.443178Z",
          "iopub.execute_input": "2025-05-08T19:01:48.443518Z",
          "iopub.status.idle": "2025-05-08T19:02:10.112107Z",
          "shell.execute_reply.started": "2025-05-08T19:01:48.443486Z",
          "shell.execute_reply": "2025-05-08T19:02:10.110234Z"
        },
        "id": "kfO4YoplbTIj",
        "outputId": "98a43b8d-8d94-47f1-d921-af956107d417"
      },
      "outputs": [
        {
          "name": "stdout",
          "text": "✅ تم استخراج الميزات.\nشكل مصفوفة الميزات: (1407, 56)\n",
          "output_type": "stream"
        }
      ],
      "execution_count": null
    },
    {
      "cell_type": "code",
      "source": [
        "from sklearn.model_selection import train_test_split\n",
        "from sklearn.ensemble import RandomForestClassifier\n",
        "from sklearn.metrics import accuracy_score, confusion_matrix, classification_report\n",
        "import matplotlib.pyplot as plt\n",
        "import seaborn as sns\n",
        "\n",
        "# تقسيم البيانات إلى تدريب واختبار\n",
        "X_train, X_test, y_train, y_test = train_test_split(X_features, y_windows, test_size=0.2, random_state=42, stratify=y_windows)\n",
        "\n",
        "# إنشاء وتدريب الموديل\n",
        "model = RandomForestClassifier(n_estimators=100, random_state=42)\n",
        "model.fit(X_train, y_train)\n",
        "\n",
        "# التنبؤ على بيانات الاختبار\n",
        "y_pred = model.predict(X_test)\n",
        "\n",
        "# تقييم الأداء\n",
        "accuracy = accuracy_score(y_test, y_pred)\n",
        "print(\"✅ Accuracy:\", accuracy)\n",
        "print(\"\\n✅ Classification Report:\\n\", classification_report(y_test, y_pred))\n",
        "\n",
        "# رسم الـ Confusion Matrix\n",
        "cm = confusion_matrix(y_test, y_pred)\n",
        "plt.figure(figsize=(6, 4))\n",
        "sns.heatmap(cm, annot=True, fmt=\"d\", cmap=\"Blues\", xticklabels=[0,1], yticklabels=[0,1])\n",
        "plt.xlabel(\"Predicted Label\")\n",
        "plt.ylabel(\"True Label\")\n",
        "plt.title(\"Confusion Matrix\")\n",
        "plt.show()"
      ],
      "metadata": {
        "trusted": true,
        "execution": {
          "iopub.status.busy": "2025-05-08T19:02:10.114031Z",
          "iopub.execute_input": "2025-05-08T19:02:10.114416Z",
          "iopub.status.idle": "2025-05-08T19:02:14.303787Z",
          "shell.execute_reply.started": "2025-05-08T19:02:10.114383Z",
          "shell.execute_reply": "2025-05-08T19:02:14.302465Z"
        },
        "id": "6Ic5kY-9bTIk",
        "outputId": "963b63c9-533e-41e6-8931-582e7df3a285"
      },
      "outputs": [
        {
          "name": "stdout",
          "text": "✅ Accuracy: 0.9361702127659575\n\n✅ Classification Report:\n               precision    recall  f1-score   support\n\n           0       0.94      1.00      0.96       249\n           1       0.94      0.48      0.64        33\n\n    accuracy                           0.94       282\n   macro avg       0.94      0.74      0.80       282\nweighted avg       0.94      0.94      0.93       282\n\n",
          "output_type": "stream"
        },
        {
          "output_type": "display_data",
          "data": {
            "text/plain": "<Figure size 600x400 with 2 Axes>",
            "image/png": "[encoded data removed]"
          },
          "metadata": {}
        }
      ],
      "execution_count": null
    }
  ]
}